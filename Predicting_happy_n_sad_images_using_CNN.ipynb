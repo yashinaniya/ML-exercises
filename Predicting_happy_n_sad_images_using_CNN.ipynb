{
  "nbformat": 4,
  "nbformat_minor": 0,
  "metadata": {
    "colab": {
      "name": "Copy of Exercise 4-Question.ipynb",
      "provenance": [],
      "toc_visible": true,
      "include_colab_link": true
    },
    "kernelspec": {
      "display_name": "Python 3",
      "name": "python3"
    },
    "accelerator": "GPU"
  },
  "cells": [
    {
      "cell_type": "markdown",
      "metadata": {
        "id": "view-in-github",
        "colab_type": "text"
      },
      "source": [
        "<a href=\"https://colab.research.google.com/github/yashinaniya/ML-exercises/blob/main/Predicting_happy_n_sad_images_using_CNN.ipynb\" target=\"_parent\"><img src=\"https://colab.research.google.com/assets/colab-badge.svg\" alt=\"Open In Colab\"/></a>"
      ]
    },
    {
      "cell_type": "code",
      "metadata": {
        "id": "zX4Kg8DUTKWO"
      },
      "source": [
        "#@title Licensed under the Apache License, Version 2.0 (the \"License\");\n",
        "# you may not use this file except in compliance with the License.\n",
        "# You may obtain a copy of the License at\n",
        "#\n",
        "# https://www.apache.org/licenses/LICENSE-2.0\n",
        "#\n",
        "# Unless required by applicable law or agreed to in writing, software\n",
        "# distributed under the License is distributed on an \"AS IS\" BASIS,\n",
        "# WITHOUT WARRANTIES OR CONDITIONS OF ANY KIND, either express or implied.\n",
        "# See the License for the specific language governing permissions and\n",
        "# limitations under the License."
      ],
      "execution_count": null,
      "outputs": []
    },
    {
      "cell_type": "markdown",
      "metadata": {
        "id": "UncprnB0ymAE"
      },
      "source": [
        "Below is code with a link to a happy or sad dataset which contains 80 images, 40 happy and 40 sad. \n",
        "Create a convolutional neural network that trains to 100% accuracy on these images,  which cancels training upon hitting training accuracy of >.999\n",
        "\n",
        "Hint -- it will work best with 3 convolutional layers."
      ]
    },
    {
      "cell_type": "code",
      "metadata": {
        "colab": {
          "base_uri": "https://localhost:8080/"
        },
        "id": "7Vti6p3PxmpS",
        "outputId": "49eaffdf-181f-4405-8b65-a8d7ca9e9a87"
      },
      "source": [
        "import tensorflow as tf\n",
        "import os\n",
        "import zipfile\n",
        "\n",
        "\n",
        "DESIRED_ACCURACY = 0.999\n",
        "\n",
        "!wget --no-check-certificate \\\n",
        "    \"https://storage.googleapis.com/laurencemoroney-blog.appspot.com/happy-or-sad.zip\" \\\n",
        "    -O \"/tmp/happy-or-sad.zip\"\n",
        "\n",
        "zip_ref = zipfile.ZipFile(\"/tmp/happy-or-sad.zip\", 'r')\n",
        "zip_ref.extractall(\"/tmp/h-or-s\")\n",
        "zip_ref.close()\n",
        "\n",
        "class myCallback(tf.keras.callbacks.Callback):\n",
        "  def on_epoch_end(self, epoch, logs={}):\n",
        "    if(logs.get('accuracy')>0.999):\n",
        "      print(\"\\nReached 99% accuracy so cancelling training!\")\n",
        "      self.model.stop_training = True\n",
        "\n",
        "callbacks = myCallback()"
      ],
      "execution_count": null,
      "outputs": [
        {
          "output_type": "stream",
          "text": [
            "--2021-01-02 17:53:45--  https://storage.googleapis.com/laurencemoroney-blog.appspot.com/happy-or-sad.zip\n",
            "Resolving storage.googleapis.com (storage.googleapis.com)... 172.217.5.240, 172.217.164.176, 172.217.15.112, ...\n",
            "Connecting to storage.googleapis.com (storage.googleapis.com)|172.217.5.240|:443... connected.\n",
            "HTTP request sent, awaiting response... 200 OK\n",
            "Length: 2670333 (2.5M) [application/zip]\n",
            "Saving to: ‘/tmp/happy-or-sad.zip’\n",
            "\n",
            "\r/tmp/happy-or-sad.z   0%[                    ]       0  --.-KB/s               \r/tmp/happy-or-sad.z 100%[===================>]   2.55M  --.-KB/s    in 0.02s   \n",
            "\n",
            "2021-01-02 17:53:45 (107 MB/s) - ‘/tmp/happy-or-sad.zip’ saved [2670333/2670333]\n",
            "\n"
          ],
          "name": "stdout"
        }
      ]
    },
    {
      "cell_type": "code",
      "metadata": {
        "id": "6DLGbXXI1j_V"
      },
      "source": [
        "# This Code Block should Define and Compile the Model\n",
        "model = tf.keras.models.Sequential()\n",
        "# Step 1 - Convolution\n",
        "model.add(tf.keras.layers.Conv2D(filters=32, kernel_size=3, activation='relu', input_shape=[150, 150, 3]))\n",
        "\n",
        "# Step 2 - Pooling\n",
        "model.add(tf.keras.layers.MaxPool2D(pool_size=2, strides=2))\n",
        "\n",
        "# Adding a second convolutional layer\n",
        "model.add(tf.keras.layers.Conv2D(filters=32, kernel_size=3, activation='relu'))\n",
        "model.add(tf.keras.layers.MaxPool2D(pool_size=2, strides=2))\n",
        "\n",
        "# Step 3 - Flattening\n",
        "model.add(tf.keras.layers.Flatten())\n",
        "\n",
        "# Step 4 - Full Connection\n",
        "model.add(tf.keras.layers.Dense(units=128, activation='relu'))\n",
        "\n",
        "# Step 5 - Output Layer\n",
        "model.add(tf.keras.layers.Dense(units=1, activation='sigmoid'))\n",
        "from tensorflow.keras.optimizers import RMSprop\n",
        "\n",
        "model.compile(optimizer = RMSprop(lr=0.001), loss = 'binary_crossentropy', metrics = ['accuracy'])"
      ],
      "execution_count": null,
      "outputs": []
    },
    {
      "cell_type": "code",
      "metadata": {
        "colab": {
          "base_uri": "https://localhost:8080/"
        },
        "id": "4Ap9fUJE1vVu",
        "outputId": "1dc9b07d-9374-45d9-d4db-3478b45fc7ac"
      },
      "source": [
        "# This code block should create an instance of an ImageDataGenerator called train_datagen \n",
        "# And a train_generator by calling train_datagen.flow_from_directory\n",
        "\n",
        "from tensorflow.keras.preprocessing.image import ImageDataGenerator\n",
        "\n",
        "train_datagen = ImageDataGenerator(rescale = 1./255,\n",
        "                                   )\n",
        "\n",
        "train_generator = train_datagen.flow_from_directory(\"/tmp/h-or-s\",\n",
        "                                                 target_size = (150, 150),\n",
        "                                                 batch_size = 10,\n",
        "                                                 class_mode = 'binary' )\n",
        "\n",
        "# Expected output: 'Found 80 images belonging to 2 classes'"
      ],
      "execution_count": null,
      "outputs": [
        {
          "output_type": "stream",
          "text": [
            "Found 80 images belonging to 2 classes.\n"
          ],
          "name": "stdout"
        }
      ]
    },
    {
      "cell_type": "code",
      "metadata": {
        "colab": {
          "base_uri": "https://localhost:8080/"
        },
        "id": "48dLm13U1-Le",
        "outputId": "ba7f0a59-d5a8-4c9e-a2a4-afe78a098eee"
      },
      "source": [
        "# This code block should call model.fit and train for\n",
        "# a number of epochs. \n",
        "history = model.fit( train_generator, \n",
        "                    steps_per_epoch = 8,\n",
        "                    epochs = 20,\n",
        "                    verbose = 1,\n",
        "                    callbacks = [callbacks]\n",
        "                   )\n",
        "    \n",
        "# Expected output: \"Reached 99.9% accuracy so cancelling training!\"\""
      ],
      "execution_count": null,
      "outputs": [
        {
          "output_type": "stream",
          "text": [
            "Epoch 1/20\n",
            "8/8 [==============================] - 7s 19ms/step - loss: 3.4873 - accuracy: 0.5139\n",
            "Epoch 2/20\n",
            "8/8 [==============================] - 0s 20ms/step - loss: 0.4211 - accuracy: 0.8259\n",
            "Epoch 3/20\n",
            "8/8 [==============================] - 0s 20ms/step - loss: 0.2463 - accuracy: 0.9284\n",
            "Epoch 4/20\n",
            "8/8 [==============================] - 0s 20ms/step - loss: 0.1858 - accuracy: 0.9237\n",
            "Epoch 5/20\n",
            "8/8 [==============================] - 0s 20ms/step - loss: 0.0635 - accuracy: 0.9795\n",
            "Epoch 6/20\n",
            "8/8 [==============================] - 0s 20ms/step - loss: 0.0755 - accuracy: 0.9752\n",
            "Epoch 7/20\n",
            "8/8 [==============================] - 0s 19ms/step - loss: 0.1094 - accuracy: 0.9287\n",
            "Epoch 8/20\n",
            "8/8 [==============================] - 0s 20ms/step - loss: 0.0691 - accuracy: 0.9613\n",
            "Epoch 9/20\n",
            "8/8 [==============================] - 0s 19ms/step - loss: 0.1234 - accuracy: 0.9368\n",
            "Epoch 10/20\n",
            "8/8 [==============================] - 0s 20ms/step - loss: 0.0099 - accuracy: 1.0000\n",
            "\n",
            "Reached 99% accuracy so cancelling training!\n"
          ],
          "name": "stdout"
        }
      ]
    }
  ]
}